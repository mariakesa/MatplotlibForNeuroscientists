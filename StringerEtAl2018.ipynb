{
 "cells": [
  {
   "cell_type": "markdown",
   "metadata": {},
   "source": [
    "The paper that this notebook uses to explain Matplotlib is Carsen Stringer, Marius Pachitariu, Nicholas Steinmetz, Matteo Carandini, Kenneth D. Harris, \"High-dimensional geometry of population responses in visual cortex\", Nature, 2018.\n",
    "\n",
    "The official repository for the code related to this paper is here: https://github.com/MouseLand/stringer-pachitariu-et-al-2018b\n",
    "\n",
    "Data for this notebook can be downloaded from https://figshare.com/articles/dataset/Recordings_of_ten_thousand_neurons_in_visual_cortex_in_response_to_2_800_natural_images/6845348"
   ]
  },
  {
   "cell_type": "markdown",
   "metadata": {},
   "source": [
    "# Importing necessary libraries"
   ]
  },
  {
   "cell_type": "code",
   "execution_count": 1,
   "metadata": {},
   "outputs": [],
   "source": [
    "import matplotlib.pyplot as plt\n",
    "import scipy.io as sio\n",
    "import numpy as np"
   ]
  },
  {
   "cell_type": "markdown",
   "metadata": {},
   "source": [
    "# Opening .mat data in Python and first plot"
   ]
  },
  {
   "cell_type": "markdown",
   "metadata": {},
   "source": [
    "We load a \\*.mat file containing data into a numpy array and make a fist plot."
   ]
  },
  {
   "cell_type": "code",
   "execution_count": 8,
   "metadata": {},
   "outputs": [],
   "source": [
    "import scipy.io as sio\n",
    "mt = sio.loadmat('natimg2800_M160825_MP027_2016-12-14.mat')\n",
    "\n",
    "### stimulus responses\n",
    "resp = mt['stim'][0]['resp'][0]    # stimuli by neurons\n",
    "istim = mt['stim'][0]['istim'][0]   # identities of stimuli in resp\n",
    "spont = mt['stim'][0]['spont'][0]  # timepoints by neurons"
   ]
  },
  {
   "cell_type": "markdown",
   "metadata": {},
   "source": [
    "It is useful to plot shapes of the loaded numpy arrays using .shape"
   ]
  },
  {
   "cell_type": "code",
   "execution_count": 9,
   "metadata": {
    "scrolled": true
   },
   "outputs": [
    {
     "name": "stdout",
     "output_type": "stream",
     "text": [
      "Shape of neural response array: (5426, 11449)\n",
      "Shape of stimulus identity response array: (5426, 1)\n",
      "Shape of spontaneous activity array: (4696, 11449)\n"
     ]
    }
   ],
   "source": [
    "print('Shape of neural response array: {}'.format(resp.shape))\n",
    "print('Shape of stimulus identity response array: {}'.format(istim.shape))\n",
    "print('Shape of spontaneous activity array: {}'.format(spont.shape))"
   ]
  },
  {
   "cell_type": "markdown",
   "metadata": {},
   "source": [
    "Load stimuli as images using plt.imshow."
   ]
  },
  {
   "cell_type": "code",
   "execution_count": null,
   "metadata": {},
   "outputs": [],
   "source": [
    "### loading images\n",
    "mt = sio.loadmat('images_natimg2800_all.mat')\n",
    "imgs = mt['imgs']  # 68 by 270 by number of images\n",
    "# check out first image using matplotlib.pyplot\n",
    "plt.imshow(imgs[:,:,0])"
   ]
  }
 ],
 "metadata": {
  "kernelspec": {
   "display_name": "Python 3",
   "language": "python",
   "name": "python3"
  },
  "language_info": {
   "codemirror_mode": {
    "name": "ipython",
    "version": 3
   },
   "file_extension": ".py",
   "mimetype": "text/x-python",
   "name": "python",
   "nbconvert_exporter": "python",
   "pygments_lexer": "ipython3",
   "version": "3.7.7"
  }
 },
 "nbformat": 4,
 "nbformat_minor": 4
}
